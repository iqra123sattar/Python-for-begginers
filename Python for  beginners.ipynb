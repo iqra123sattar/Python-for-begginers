{
 "cells": [
  {
   "cell_type": "markdown",
   "id": "a78f9670",
   "metadata": {},
   "source": [
    " # <center>Assignment 1(Iqra_AI)</center>"
   ]
  },
  {
   "cell_type": "markdown",
   "id": "ce8cd665",
   "metadata": {},
   "source": [
    "# Question no.1: Write a program that uses input to prompt a user for their name and then welcomes them.\n",
    "Enter your name: Chuck\n",
    "Hello Chuck\n"
   ]
  },
  {
   "cell_type": "code",
   "execution_count": 12,
   "id": "b63cc8e7",
   "metadata": {},
   "outputs": [
    {
     "name": "stdout",
     "output_type": "stream",
     "text": [
      "enter your name:iqra bhatti\n",
      "hello iqra bhatti\n"
     ]
    }
   ],
   "source": [
    "name=input(\"enter your name:\")\n",
    "print(\"hello\", name)\n"
   ]
  },
  {
   "cell_type": "markdown",
   "id": "e4b1e5f7",
   "metadata": {},
   "source": [
    "# Q2: Write a program to prompt the user for hours and rate per\n",
    "hour to compute gross pay.\n",
    "Enter Hours: 35\n",
    "Enter Rate: 2.75\n",
    "Pay: 96.25\n",
    "We won’t worry about making sure our pay has exactly two digits after the decimal\n",
    "place for now. If you want, you can play with the built-in Python round function\n",
    "to properly round the resulting pay to two decimal places.\n"
   ]
  },
  {
   "cell_type": "code",
   "execution_count": 13,
   "id": "17b47821",
   "metadata": {},
   "outputs": [
    {
     "name": "stdout",
     "output_type": "stream",
     "text": [
      "enter hours:  35\n",
      "enter rate2.75\n",
      "96.25\n"
     ]
    }
   ],
   "source": [
    "hours=int(input(\"enter hours:  \"))\n",
    "rate=float(input(\"enter rate\"))\n",
    "pay=print(hours*rate)"
   ]
  },
  {
   "cell_type": "markdown",
   "id": "dcf7875f",
   "metadata": {},
   "source": [
    "# Q3: Assume that we execute the following assignment statements:\n",
    "width = 17\n",
    "height = 12.0\n",
    "For each of the following expressions, write the value of the expression and the\n",
    "type (of the value of the expression).\n",
    "1. width//2\n",
    "2. width/2.0\n",
    "3. height/3\n",
    "4. 1 + 2 * 5\n",
    "Use the Python interpreter to check your answers.\n"
   ]
  },
  {
   "cell_type": "code",
   "execution_count": 3,
   "id": "08f09243",
   "metadata": {},
   "outputs": [
    {
     "name": "stdout",
     "output_type": "stream",
     "text": [
      "8\n"
     ]
    },
    {
     "data": {
      "text/plain": [
       "int"
      ]
     },
     "execution_count": 3,
     "metadata": {},
     "output_type": "execute_result"
    }
   ],
   "source": [
    "width = 17\n",
    "height = 12\n",
    "#Quotient\n",
    "q=width//2\n",
    "print(q)\n",
    "type(q)"
   ]
  },
  {
   "cell_type": "code",
   "execution_count": 6,
   "id": "df6de064",
   "metadata": {},
   "outputs": [
    {
     "name": "stdout",
     "output_type": "stream",
     "text": [
      "8.5\n"
     ]
    },
    {
     "data": {
      "text/plain": [
       "float"
      ]
     },
     "execution_count": 6,
     "metadata": {},
     "output_type": "execute_result"
    }
   ],
   "source": [
    "#division\n",
    "di = width/2\n",
    "print(di)\n",
    "type(di)"
   ]
  },
  {
   "cell_type": "code",
   "execution_count": 14,
   "id": "001df977",
   "metadata": {},
   "outputs": [
    {
     "name": "stdout",
     "output_type": "stream",
     "text": [
      "4.0\n"
     ]
    },
    {
     "data": {
      "text/plain": [
       "float"
      ]
     },
     "execution_count": 14,
     "metadata": {},
     "output_type": "execute_result"
    }
   ],
   "source": [
    "#division\n",
    "height= 12\n",
    "d = height/3\n",
    "print(d)\n",
    "type(d)"
   ]
  },
  {
   "cell_type": "code",
   "execution_count": 15,
   "id": "ac5b052a",
   "metadata": {},
   "outputs": [
    {
     "data": {
      "text/plain": [
       "11"
      ]
     },
     "execution_count": 15,
     "metadata": {},
     "output_type": "execute_result"
    }
   ],
   "source": [
    "1+2*5"
   ]
  },
  {
   "cell_type": "markdown",
   "id": "3fdcb652",
   "metadata": {},
   "source": [
    "# Q4: Write a program which prompts the user for a Celsius temperature, convert the temperature to Fahrenheit, and print out the converted temperature."
   ]
  },
  {
   "cell_type": "code",
   "execution_count": 7,
   "id": "c7e5adc1",
   "metadata": {},
   "outputs": [
    {
     "name": "stdout",
     "output_type": "stream",
     "text": [
      "celcius temp:   22\n",
      "farenheit tempreture 71.6\n"
     ]
    }
   ],
   "source": [
    "\n",
    "temp = float(input(\"celcius temp:   \"))\n",
    "tempreture = (float(temp*1.8)+32)\n",
    "print(\"farenheit tempreture\", tempreture)"
   ]
  },
  {
   "cell_type": "markdown",
   "id": "3cf26ce6",
   "metadata": {},
   "source": [
    "# Q6: Write Python statements to calculate and print the simple profit using \n",
    "variables c, r and t for capital, rate of profit and time duration respectively.\n"
   ]
  },
  {
   "cell_type": "code",
   "execution_count": 2,
   "id": "775921ab",
   "metadata": {},
   "outputs": [
    {
     "name": "stdout",
     "output_type": "stream",
     "text": [
      "144\n"
     ]
    }
   ],
   "source": [
    "#calculate inerest\n",
    "p = 3\n",
    "t = 6\n",
    "r = 8\n",
    "s = (p*t*r)\n",
    "print(s)"
   ]
  },
  {
   "cell_type": "markdown",
   "id": "4b3ce8fc",
   "metadata": {},
   "source": [
    "# Q7: Write Python statements to create 2 complex objects and print their sum, difference and product.\n"
   ]
  },
  {
   "cell_type": "code",
   "execution_count": 3,
   "id": "21cbadf1",
   "metadata": {},
   "outputs": [
    {
     "name": "stdout",
     "output_type": "stream",
     "text": [
      "enter two complex numbers i.e:a+bj\n",
      "4+8j\n",
      "10+16j\n",
      "sum (14+24j)\n"
     ]
    }
   ],
   "source": [
    "\n",
    "#addition\n",
    "print(\"enter two complex numbers i.e:a+bj\")\n",
    "number1  =  complex (input()) \n",
    "number2  =  complex (input())\n",
    "print(\"sum\", number1+number2)"
   ]
  },
  {
   "cell_type": "code",
   "execution_count": 1,
   "id": "77b08f79",
   "metadata": {},
   "outputs": [
    {
     "name": "stdout",
     "output_type": "stream",
     "text": [
      "enter two complex numbers i.e: a-bj\n",
      "5-3j\n",
      "3-1j\n",
      "difference (2-2j)\n"
     ]
    }
   ],
   "source": [
    "#difference\n",
    "print(\"enter two complex numbers i.e: a-bj\")\n",
    "n1 = complex (input())\n",
    "n2 = complex (input())\n",
    "print(\"difference\" , n1-n2)"
   ]
  },
  {
   "cell_type": "code",
   "execution_count": 3,
   "id": "42ba64d8",
   "metadata": {},
   "outputs": [
    {
     "name": "stdout",
     "output_type": "stream",
     "text": [
      "enter two complex numbers i.e: a*bj\n",
      "8\n",
      "4\n",
      "product (32+0j)\n"
     ]
    }
   ],
   "source": [
    "#complex\n",
    "print(\"enter two complex numbers i.e: a*bj\")\n",
    "s1 = complex(input())\n",
    "s2 = complex(input())\n",
    "print(\"product\" , s1 * s2)"
   ]
  },
  {
   "cell_type": "markdown",
   "id": "7638ddaf",
   "metadata": {},
   "source": [
    "# Q8: Write Python statements to accept a string from the user and print it in title case.\n"
   ]
  },
  {
   "cell_type": "code",
   "execution_count": 21,
   "id": "1267a38c",
   "metadata": {},
   "outputs": [
    {
     "data": {
      "text/plain": [
       "'Enter In Title Case'"
      ]
     },
     "execution_count": 21,
     "metadata": {},
     "output_type": "execute_result"
    }
   ],
   "source": [
    "#string in title case\n",
    "string = \"enter in title case\"\n",
    "string.title()"
   ]
  },
  {
   "cell_type": "markdown",
   "id": "2199f4ef",
   "metadata": {},
   "source": [
    "# Strings"
   ]
  },
  {
   "cell_type": "markdown",
   "id": "169112dd",
   "metadata": {},
   "source": [
    "# Q1: Take the following Python code that stores a string:\n",
    "str = 'X-DSPAM-Confidence:0.8475'\n",
    "Use find and string slicing to extract the portion of the string after the colon character and then use the float function to convert the extracted string into a floating point number."
   ]
  },
  {
   "cell_type": "code",
   "execution_count": 30,
   "id": "8ded6968",
   "metadata": {},
   "outputs": [
    {
     "name": "stdout",
     "output_type": "stream",
     "text": [
      "18\n"
     ]
    },
    {
     "data": {
      "text/plain": [
       "int"
      ]
     },
     "execution_count": 30,
     "metadata": {},
     "output_type": "execute_result"
    }
   ],
   "source": [
    "txt = \"X-DSPAM-confidence:0.8475\"\n",
    "txt.find(\":\")\n",
    "n1 = txt.find(\":\")\n",
    "print(n1)\n",
    "type(n1)"
   ]
  },
  {
   "cell_type": "code",
   "execution_count": 32,
   "id": "a580b300",
   "metadata": {},
   "outputs": [
    {
     "name": "stdout",
     "output_type": "stream",
     "text": [
      "0.8475\n"
     ]
    },
    {
     "data": {
      "text/plain": [
       "str"
      ]
     },
     "execution_count": 32,
     "metadata": {},
     "output_type": "execute_result"
    }
   ],
   "source": [
    "n2 = txt[19:]\n",
    "print(n2)\n",
    "type(n2)"
   ]
  },
  {
   "cell_type": "markdown",
   "id": "4567c52e",
   "metadata": {},
   "source": [
    "# Q2: Here is a string in python:\n",
    "my_str = “Welcome to the Course on Data Science.”\n",
    "Do the following:\n",
    "- Split the string’\n",
    "- Print only first 10 letters\n",
    "- Make a new string from this, such that it has only these Words: “Welcome Science”"
   ]
  },
  {
   "cell_type": "code",
   "execution_count": 34,
   "id": "0ce7dd0a",
   "metadata": {},
   "outputs": [
    {
     "data": {
      "text/plain": [
       "['welcome', 'to', 'the', 'course', 'on', 'data', 'science']"
      ]
     },
     "execution_count": 34,
     "metadata": {},
     "output_type": "execute_result"
    }
   ],
   "source": [
    "#string function\n",
    "#split\n",
    "my_str = \"welcome to the course on data science\"\n",
    "my_str.split()"
   ]
  },
  {
   "cell_type": "code",
   "execution_count": 35,
   "id": "fe7dc2cc",
   "metadata": {},
   "outputs": [
    {
     "name": "stdout",
     "output_type": "stream",
     "text": [
      "welcome to \n"
     ]
    }
   ],
   "source": [
    "#slice\n",
    "y = my_str[0:11]\n",
    "print(y)"
   ]
  },
  {
   "cell_type": "code",
   "execution_count": 36,
   "id": "50517c55",
   "metadata": {},
   "outputs": [
    {
     "data": {
      "text/plain": [
       "['welcome ', ' science']"
      ]
     },
     "execution_count": 36,
     "metadata": {},
     "output_type": "execute_result"
    }
   ],
   "source": [
    "#welcome science\n",
    "my_str.split(\"to the course on data\")"
   ]
  },
  {
   "cell_type": "markdown",
   "id": "7047a800",
   "metadata": {},
   "source": [
    "# Q3: Write a Python script to calculate the number of occurrences of a given character in an any given string.\n"
   ]
  },
  {
   "cell_type": "code",
   "execution_count": 41,
   "id": "197c60e5",
   "metadata": {},
   "outputs": [
    {
     "name": "stdout",
     "output_type": "stream",
     "text": [
      "1\n"
     ]
    }
   ],
   "source": [
    "#count occurance of a character\n",
    "#solution1:\n",
    "str_1 = \"I live in lahore, which is a city in Pakistan\"\n",
    "print(str_1.count(\"lahore\"))"
   ]
  },
  {
   "cell_type": "markdown",
   "id": "0203dca0",
   "metadata": {},
   "source": [
    "# Q4: Write a Python script to count the number of occurrences of each word in a given string.\n"
   ]
  },
  {
   "cell_type": "code",
   "execution_count": 43,
   "id": "696c887c",
   "metadata": {},
   "outputs": [
    {
     "name": "stdout",
     "output_type": "stream",
     "text": [
      "15\n"
     ]
    }
   ],
   "source": [
    "#count each character\n",
    "str_2 = \"i am a student\"\n",
    "print(str_2.count(\"\"))"
   ]
  },
  {
   "cell_type": "markdown",
   "id": "d34460e3",
   "metadata": {},
   "source": [
    "# Q5: Write a Python script to form a string out of the first 2 and last 2 characters from the given string. For example, given the string “I am a student”, the output expected is “I nt”.\n",
    "\n"
   ]
  },
  {
   "cell_type": "code",
   "execution_count": 2,
   "id": "41cd917e",
   "metadata": {},
   "outputs": [
    {
     "name": "stdout",
     "output_type": "stream",
     "text": [
      "['i ', 'nt']\n"
     ]
    }
   ],
   "source": [
    "str_3 = \"i am a student\"\n",
    "lis = str_3.split(\"am a stude\")\n",
    "print(lis)"
   ]
  },
  {
   "cell_type": "code",
   "execution_count": 3,
   "id": "6e3b26dc",
   "metadata": {},
   "outputs": [
    {
     "name": "stdout",
     "output_type": "stream",
     "text": [
      "i nt\n"
     ]
    }
   ],
   "source": [
    "#merging list indexes.\n",
    "conct = lis[0] + lis [1]\n",
    "print(conct)"
   ]
  },
  {
   "cell_type": "code",
   "execution_count": 4,
   "id": "f0525294",
   "metadata": {},
   "outputs": [
    {
     "name": "stdout",
     "output_type": "stream",
     "text": [
      "i am a student\n"
     ]
    }
   ],
   "source": [
    "print(str_3)"
   ]
  },
  {
   "cell_type": "code",
   "execution_count": 5,
   "id": "58a52658",
   "metadata": {},
   "outputs": [
    {
     "name": "stdout",
     "output_type": "stream",
     "text": [
      "i  nt\n"
     ]
    }
   ],
   "source": [
    "conct2 = str_3[0] + \"  \" + str_3[-2:]\n",
    "print(conct2)"
   ]
  },
  {
   "cell_type": "markdown",
   "id": "3c94813c",
   "metadata": {},
   "source": [
    "# Q 1: Make a modify it by removing the first and last elements. Then make a list called middle that contains all except the first and last elements.\n"
   ]
  },
  {
   "cell_type": "markdown",
   "id": "064d7d6d",
   "metadata": {},
   "source": [
    "# Lists"
   ]
  },
  {
   "cell_type": "code",
   "execution_count": 4,
   "id": "6b12c2f2",
   "metadata": {},
   "outputs": [
    {
     "name": "stdout",
     "output_type": "stream",
     "text": [
      "[3, 4, 5, 6, 7, 8]\n",
      "[3, 4, 5, 6, 7]\n"
     ]
    }
   ],
   "source": [
    "list_1 = [2,3,4,5,6,7,8]\n",
    "list_1.remove(2)\n",
    "print(list_1)\n",
    "list_1.remove(8)\n",
    "print(list_1)"
   ]
  },
  {
   "cell_type": "markdown",
   "id": "1c9575f6",
   "metadata": {},
   "source": [
    "# Q2: Create a list of some text and find the unique words in it.\n"
   ]
  },
  {
   "cell_type": "code",
   "execution_count": 1,
   "id": "16bee790",
   "metadata": {},
   "outputs": [
    {
     "name": "stdout",
     "output_type": "stream",
     "text": [
      "{2, 3, 5, 6, 7, 8}\n"
     ]
    }
   ],
   "source": [
    "list_1 = [2,3,5,2,3,2,6,7,8,2]\n",
    "list_1 = set(list_1)\n",
    "print(list_1)"
   ]
  },
  {
   "cell_type": "markdown",
   "id": "92c81bcb",
   "metadata": {},
   "source": [
    "# Q3: Write a program to add all the items in a list.\n"
   ]
  },
  {
   "cell_type": "code",
   "execution_count": 2,
   "id": "7e494980",
   "metadata": {},
   "outputs": [
    {
     "name": "stdout",
     "output_type": "stream",
     "text": [
      "18\n"
     ]
    }
   ],
   "source": [
    "list_1 = [2,3,5,8]\n",
    "w = sum(list_1)\n",
    "print(w)"
   ]
  },
  {
   "cell_type": "markdown",
   "id": "04e35a77",
   "metadata": {},
   "source": [
    "# Q4. Write a program to get the largest and smallest number in a list."
   ]
  },
  {
   "cell_type": "code",
   "execution_count": 3,
   "id": "768f1396",
   "metadata": {},
   "outputs": [
    {
     "name": "stdout",
     "output_type": "stream",
     "text": [
      "max: 90\n",
      "min: 23\n"
     ]
    }
   ],
   "source": [
    "list = [23,45,78,90]\n",
    "print(\"max:\",max(list))\n",
    "print(\"min:\",min(list))"
   ]
  },
  {
   "cell_type": "markdown",
   "id": "6bb8e6a4",
   "metadata": {},
   "source": [
    "# Q5: Write a program to remove duplicates from a list."
   ]
  },
  {
   "cell_type": "code",
   "execution_count": 5,
   "id": "7522f41b",
   "metadata": {},
   "outputs": [
    {
     "name": "stdout",
     "output_type": "stream",
     "text": [
      "{1, 2, 6, 7, 8, 9}\n"
     ]
    }
   ],
   "source": [
    "list_1 = [7,8,9,7,1,2,6,7,8,9]\n",
    "y=set(list_1)\n",
    "print(y)"
   ]
  },
  {
   "cell_type": "markdown",
   "id": "6adb95c3",
   "metadata": {},
   "source": [
    "# Q6: Write a program that prints whether at least one member of the given two lists are same."
   ]
  },
  {
   "cell_type": "code",
   "execution_count": 6,
   "id": "b9f07082",
   "metadata": {},
   "outputs": [
    {
     "name": "stdout",
     "output_type": "stream",
     "text": [
      "{'pen', 'laptop', 'book'}\n"
     ]
    }
   ],
   "source": [
    "x = {\"laptop\",\"book\",\"pen\"}\n",
    "y = {\"laptop\",\"book\",\"pen\",\"table\"}\n",
    "z = x.intersection(y)\n",
    "print(z)"
   ]
  },
  {
   "cell_type": "markdown",
   "id": "0269d49d",
   "metadata": {},
   "source": [
    "# Q7: Write a program to convert a list of characters into a string."
   ]
  },
  {
   "cell_type": "code",
   "execution_count": 16,
   "id": "e06e8026",
   "metadata": {},
   "outputs": [
    {
     "data": {
      "text/plain": [
       "list"
      ]
     },
     "execution_count": 16,
     "metadata": {},
     "output_type": "execute_result"
    }
   ],
   "source": [
    "list1=[1,2,3,6,4,]\n",
    "type(list1)"
   ]
  },
  {
   "cell_type": "code",
   "execution_count": 21,
   "id": "c59e078f",
   "metadata": {},
   "outputs": [],
   "source": [
    "list=str(list)"
   ]
  },
  {
   "cell_type": "code",
   "execution_count": 22,
   "id": "39119dca",
   "metadata": {},
   "outputs": [
    {
     "data": {
      "text/plain": [
       "str"
      ]
     },
     "execution_count": 22,
     "metadata": {},
     "output_type": "execute_result"
    }
   ],
   "source": [
    "type(list)"
   ]
  },
  {
   "cell_type": "markdown",
   "id": "538e3b73",
   "metadata": {},
   "source": [
    "# Q8: Write a program to check whether two lists are identical."
   ]
  },
  {
   "cell_type": "markdown",
   "id": "5bf18e6c",
   "metadata": {},
   "source": [
    "# Question no.8"
   ]
  },
  {
   "cell_type": "code",
   "execution_count": 23,
   "id": "3b96f461",
   "metadata": {},
   "outputs": [
    {
     "name": "stdout",
     "output_type": "stream",
     "text": [
      "the list are indentical\n"
     ]
    }
   ],
   "source": [
    "list_1 = [1,4,5,8,9]\n",
    "list_2 = [1,4,5,8,9]\n",
    "if list_1==list_2:\n",
    "    print(\"the list are indentical\")\n",
    "else:\n",
    "    print(\"the list are not identical\")"
   ]
  },
  {
   "cell_type": "markdown",
   "id": "21ec4131",
   "metadata": {},
   "source": [
    "# Q9: Write a program to print unique values from a list."
   ]
  },
  {
   "cell_type": "code",
   "execution_count": 26,
   "id": "b5bc50ff",
   "metadata": {},
   "outputs": [
    {
     "name": "stdout",
     "output_type": "stream",
     "text": [
      "{1, 2, 98, 67, 23}\n"
     ]
    }
   ],
   "source": [
    "list1 = [1,67,98,23,2]\n",
    "list1 = set(list1)\n",
    "print(list1)"
   ]
  },
  {
   "cell_type": "markdown",
   "id": "c0f323d6",
   "metadata": {},
   "source": [
    "# Q10: Write a program to print the number of occurrences of each element in a list."
   ]
  },
  {
   "cell_type": "code",
   "execution_count": 32,
   "id": "03c212c8",
   "metadata": {},
   "outputs": [
    {
     "name": "stdout",
     "output_type": "stream",
     "text": [
      "enterLahore is a very bigest city\n"
     ]
    },
    {
     "data": {
      "text/plain": [
       "2"
      ]
     },
     "execution_count": 32,
     "metadata": {},
     "output_type": "execute_result"
    }
   ],
   "source": [
    "list1=input(\"enter\")\n",
    "list1.count('a')"
   ]
  },
  {
   "cell_type": "code",
   "execution_count": 31,
   "id": "b96718c6",
   "metadata": {},
   "outputs": [
    {
     "name": "stdout",
     "output_type": "stream",
     "text": [
      "bushra\n"
     ]
    },
    {
     "data": {
      "text/plain": [
       "1"
      ]
     },
     "execution_count": 31,
     "metadata": {},
     "output_type": "execute_result"
    }
   ],
   "source": [
    "x=input(\"\")\n",
    "x.count('b')"
   ]
  },
  {
   "cell_type": "markdown",
   "id": "9af61a0e",
   "metadata": {},
   "source": [
    "# Q11: Write a program to find the sub-list in a list of lists whose sum of elements is the highest."
   ]
  },
  {
   "cell_type": "code",
   "execution_count": 33,
   "id": "1a16624b",
   "metadata": {},
   "outputs": [
    {
     "name": "stdout",
     "output_type": "stream",
     "text": [
      "[90, 100, 123]\n"
     ]
    }
   ],
   "source": [
    "element = [[1,5,8,9],[12,64,23],[90,100,123]]\n",
    "print(max(element,key=sum))"
   ]
  },
  {
   "cell_type": "markdown",
   "id": "71a3a01a",
   "metadata": {},
   "source": [
    "# Q12: Write a program to insert a given string at the beginning of all the strings in a list."
   ]
  },
  {
   "cell_type": "code",
   "execution_count": 39,
   "id": "5ca2072e",
   "metadata": {
    "scrolled": true
   },
   "outputs": [
    {
     "name": "stdout",
     "output_type": "stream",
     "text": [
      "[1, 4, '3', 5, 7, 9]\n"
     ]
    }
   ],
   "source": [
    "list = [1,4,5,7,9]\n",
    "list.insert(2,'3')\n",
    "print(list)"
   ]
  },
  {
   "cell_type": "markdown",
   "id": "96200125",
   "metadata": {},
   "source": [
    "# Q13: Write a program to convert a string to a list of characters."
   ]
  },
  {
   "cell_type": "code",
   "execution_count": 1,
   "id": "486f80c6",
   "metadata": {},
   "outputs": [
    {
     "name": "stdout",
     "output_type": "stream",
     "text": [
      "['this', 'is', 'my', 'school']\n"
     ]
    }
   ],
   "source": [
    "string_chng = \"this is my school\"\n",
    "\n",
    "#1.by spliting\n",
    "x = string_chng.split()\n",
    "print(x)"
   ]
  },
  {
   "cell_type": "code",
   "execution_count": 2,
   "id": "cf4924b0",
   "metadata": {},
   "outputs": [
    {
     "data": {
      "text/plain": [
       "['t',\n",
       " 'h',\n",
       " 'i',\n",
       " 's',\n",
       " ' ',\n",
       " 'i',\n",
       " 's',\n",
       " ' ',\n",
       " 'm',\n",
       " 'y',\n",
       " ' ',\n",
       " 's',\n",
       " 'c',\n",
       " 'h',\n",
       " 'o',\n",
       " 'o',\n",
       " 'l']"
      ]
     },
     "execution_count": 2,
     "metadata": {},
     "output_type": "execute_result"
    }
   ],
   "source": [
    "#2.by typecasting\n",
    "list(string_chng)"
   ]
  },
  {
   "cell_type": "markdown",
   "id": "986b70f7",
   "metadata": {},
   "source": [
    "# Q14: Write a program to concatenate elements of a list with corresponding\n",
    "elements of another given list.\n"
   ]
  },
  {
   "cell_type": "code",
   "execution_count": 12,
   "id": "0e93af20",
   "metadata": {},
   "outputs": [
    {
     "name": "stdout",
     "output_type": "stream",
     "text": [
      "[1, 2, 3, 4, 5, 3, 4, 5, 6, 7]\n"
     ]
    }
   ],
   "source": [
    "list_1 = [1,2,3,4,5]\n",
    "list_2 = [3,4,5,6,7]\n",
    "w = list_1 + list_2\n",
    "print(w)"
   ]
  },
  {
   "cell_type": "markdown",
   "id": "8244ccbc",
   "metadata": {},
   "source": [
    "# Q15: Write a program to split a list every n-th element to obtain a list of lists."
   ]
  },
  {
   "cell_type": "code",
   "execution_count": 8,
   "id": "a6f6f621",
   "metadata": {},
   "outputs": [
    {
     "name": "stdout",
     "output_type": "stream",
     "text": [
      "[1, 2, 3]\n",
      "[4, 5]\n",
      "[6, 7, 8, 9]\n"
     ]
    }
   ],
   "source": [
    "# creating sublists.\n",
    "list_of_list = [1,2,3,4,5,6,7,8,9]\n",
    "\n",
    "#using slice.\n",
    "list1 = list_of_list[0:3]\n",
    "list2 = list_of_list[3:5]\n",
    "list3 = list_of_list[5:9]\n",
    "\n",
    "# print the separated lists\n",
    "print(list1)\n",
    "print(list2)\n",
    "print(list3)"
   ]
  },
  {
   "cell_type": "code",
   "execution_count": 10,
   "id": "9ce2fa81",
   "metadata": {},
   "outputs": [
    {
     "data": {
      "text/plain": [
       "[[1, 2, 3], [4, 5], [6, 7, 8, 9]]"
      ]
     },
     "execution_count": 10,
     "metadata": {},
     "output_type": "execute_result"
    }
   ],
   "source": [
    "#merge lists to make list of lists.\n",
    "[list1]+[list2]+[list3]"
   ]
  },
  {
   "cell_type": "markdown",
   "id": "310c4d7d",
   "metadata": {},
   "source": [
    "# Q16: Write a program to convert a list of multiple integers into one single integer.\n",
    "Thus, the list [25,12,2] should get converted to the number 25122.\n"
   ]
  },
  {
   "cell_type": "code",
   "execution_count": 12,
   "id": "72258cdf",
   "metadata": {},
   "outputs": [
    {
     "name": "stdout",
     "output_type": "stream",
     "text": [
      "25122"
     ]
    }
   ],
   "source": [
    " a=[25,12,2]\n",
    "for i in a:\n",
    "    print(i,end=\"\")"
   ]
  },
  {
   "cell_type": "markdown",
   "id": "dcfd0c5e",
   "metadata": {},
   "source": [
    "# tuple"
   ]
  },
  {
   "cell_type": "markdown",
   "id": "d9bb350c",
   "metadata": {},
   "source": [
    "# Q1: Write a program to convert a tuple of values into a tuple of singleton tuples of values. Thus, (1,2,3) should get converted to ((1,)(2,),(3,)).\n"
   ]
  },
  {
   "cell_type": "code",
   "execution_count": 1,
   "id": "eb3c7f90",
   "metadata": {},
   "outputs": [
    {
     "name": "stdout",
     "output_type": "stream",
     "text": [
      "((1,), (2,), (3,))\n"
     ]
    }
   ],
   "source": [
    "a=(1,2,3)\n",
    "tup=(a[0:1],a[1:2],a[2:3])\n",
    "print(tup)"
   ]
  },
  {
   "cell_type": "markdown",
   "id": "36355c40",
   "metadata": {},
   "source": [
    "# Q2: Write a program to count the number of elements in a list until it finds a tuple in the list.\n"
   ]
  },
  {
   "cell_type": "code",
   "execution_count": 2,
   "id": "e7a3e916",
   "metadata": {},
   "outputs": [
    {
     "name": "stdout",
     "output_type": "stream",
     "text": [
      "[1]\n",
      "[1, 'b']\n",
      "[1, 'b', ['a', 'c']]\n"
     ]
    }
   ],
   "source": [
    "lst=[1,\"b\",(1,2),['a','c']]\n",
    "e=[]\n",
    "for x in lst:\n",
    "    if type(x) is not tuple:\n",
    "        e.append(x)\n",
    "        print(e)"
   ]
  },
  {
   "cell_type": "markdown",
   "id": "776234b3",
   "metadata": {},
   "source": [
    "# Question no.2"
   ]
  },
  {
   "cell_type": "code",
   "execution_count": 5,
   "id": "0f0bab70",
   "metadata": {},
   "outputs": [
    {
     "name": "stdout",
     "output_type": "stream",
     "text": [
      "2\n"
     ]
    }
   ],
   "source": [
    "#conting of list elements to find tuples:\n",
    "list=[1,2,(3,45),22,45]\n",
    "ctr=0\n",
    "for element in list:\n",
    "    if isinstance(element,tuple):\n",
    "        \n",
    "        ctr+=2\n",
    "        print(ctr)"
   ]
  },
  {
   "cell_type": "markdown",
   "id": "cd140a67",
   "metadata": {},
   "source": [
    "# Q3: Write a program to add corresponding elements of two given tuples, giving rise to a new tuple.\n"
   ]
  },
  {
   "cell_type": "code",
   "execution_count": 6,
   "id": "95ebd480",
   "metadata": {},
   "outputs": [
    {
     "name": "stdout",
     "output_type": "stream",
     "text": [
      "(6, 8, 10, 12)\n"
     ]
    }
   ],
   "source": [
    "#addition of tuples:\n",
    "tup_1 =(1,2,3,4)\n",
    "tup_2 =(5,6,7,8)\n",
    "\n",
    "#first import operator(the  oprator is imported first to be used)\n",
    "import operator #operator is use to perform various functions on values and variables.\n",
    "\n",
    "#convert to tuple and add it:\n",
    "w= tuple(map(operator.add,tup_1, tup_2))#map performs the function all the values and given result.\n",
    "print(w)"
   ]
  },
  {
   "cell_type": "code",
   "execution_count": 7,
   "id": "e02501c8",
   "metadata": {},
   "outputs": [
    {
     "name": "stdout",
     "output_type": "stream",
     "text": [
      "6\n",
      "7\n",
      "8\n",
      "9\n",
      "7\n",
      "8\n",
      "9\n",
      "10\n",
      "8\n",
      "9\n",
      "10\n",
      "11\n",
      "9\n",
      "10\n",
      "11\n",
      "12\n"
     ]
    }
   ],
   "source": [
    " for num in tup_1:\n",
    "        for num1 in tup_2:\n",
    "             print(num + num1)"
   ]
  },
  {
   "cell_type": "markdown",
   "id": "1f09fe69",
   "metadata": {},
   "source": [
    "# Q4: Write a program to multiply each element of a given tuple with a given integer, giving rise to a new tuple."
   ]
  },
  {
   "cell_type": "code",
   "execution_count": 2,
   "id": "02a3841c",
   "metadata": {},
   "outputs": [
    {
     "name": "stdout",
     "output_type": "stream",
     "text": [
      "(1, 2, 3, 4, 1, 2, 3, 4, 1, 2, 3, 4, 1, 2, 3, 4)\n"
     ]
    }
   ],
   "source": [
    "#multiply tuples with integers:\n",
    "mul_tup = (1,2,3,4)*4\n",
    "print(mul_tup)"
   ]
  },
  {
   "cell_type": "markdown",
   "id": "9346117f",
   "metadata": {},
   "source": [
    "# Sets"
   ]
  },
  {
   "cell_type": "markdown",
   "id": "d21aaa49",
   "metadata": {},
   "source": [
    "# Q1: Add few unique numbers in a set and use the 'in' operator to search for an element."
   ]
  },
  {
   "cell_type": "code",
   "execution_count": 3,
   "id": "a2e9ec49",
   "metadata": {},
   "outputs": [
    {
     "name": "stdout",
     "output_type": "stream",
     "text": [
      "True\n",
      "False\n"
     ]
    }
   ],
   "source": [
    "#use in operator to check if element are present\n",
    "odd_set=[1,3,5,7,9,]\n",
    "a=1 in odd_set\n",
    "print(a)\n",
    "#example for false:\n",
    "b=6 in odd_set\n",
    "print(b)"
   ]
  },
  {
   "cell_type": "markdown",
   "id": "9e2addfc",
   "metadata": {},
   "source": [
    "# Q2: Write a program to convert a list of integers into a list of unique integers using sets.\n"
   ]
  },
  {
   "cell_type": "markdown",
   "id": "82bacf98",
   "metadata": {},
   "source": [
    "# Question no.2"
   ]
  },
  {
   "cell_type": "code",
   "execution_count": 8,
   "id": "b1e9bae7",
   "metadata": {},
   "outputs": [
    {
     "name": "stdout",
     "output_type": "stream",
     "text": [
      "{3, 4, 5, 6, 7}\n"
     ]
    },
    {
     "data": {
      "text/plain": [
       "[3, 4, 5, 6, 7]"
      ]
     },
     "execution_count": 8,
     "metadata": {},
     "output_type": "execute_result"
    }
   ],
   "source": [
    "#convertlist of int to unique ints:\n",
    "lis_in =[3,4,5,6,7]\n",
    "\n",
    "#convert to set:\n",
    "p =set(lis_in)\n",
    "print(p)\n",
    "#change back to list:\n",
    "list(p)"
   ]
  },
  {
   "cell_type": "markdown",
   "id": "198b257e",
   "metadata": {},
   "source": [
    "# Q3: Assume that we have 2 lists, each having only IP addresses as its contents.\n",
    "Write a program to determine if the 2 lists have the same IP addresses (albeit in different positions) in the most optimal manner.\n"
   ]
  },
  {
   "cell_type": "markdown",
   "id": "3df65479",
   "metadata": {},
   "source": [
    "# Question no.3"
   ]
  },
  {
   "cell_type": "code",
   "execution_count": 8,
   "id": "0f5dfd83",
   "metadata": {},
   "outputs": [
    {
     "name": "stdout",
     "output_type": "stream",
     "text": [
      "[122243, 56473829, 85638778, 56473829, 85638778, 122243]\n",
      "[122243, 56473829, 85638778, 56473829, 85638778, 122243]\n",
      "[122243, 56473829, 85638778, 56473829, 85638778, 122243]\n"
     ]
    }
   ],
   "source": [
    "ip_addresses_1 =[122243,56473829,85638778]\n",
    "ip_addresses_2 =[56473829,85638778,122243]\n",
    "for item in ip_addresses_1: \n",
    "    for thing in ip_addresses_2:\n",
    "        if item == thing:\n",
    "            print(ip_addresses_1+ip_addresses_2 )"
   ]
  },
  {
   "cell_type": "markdown",
   "id": "69100d25",
   "metadata": {},
   "source": [
    "# Dictionaries:"
   ]
  },
  {
   "cell_type": "markdown",
   "id": "6486eea4",
   "metadata": {},
   "source": [
    "# Q1: Prepare a dictionary that has roll numbers as keys and marks as values. Print all the keys. Print all the values. Get 2 different values using their keys.\n"
   ]
  },
  {
   "cell_type": "markdown",
   "id": "bd928a0a",
   "metadata": {},
   "source": [
    "# Question no.1"
   ]
  },
  {
   "cell_type": "code",
   "execution_count": 11,
   "id": "b60ac2a2",
   "metadata": {},
   "outputs": [
    {
     "name": "stdout",
     "output_type": "stream",
     "text": [
      "dict_keys([1, 2, 3, 4])\n",
      "dict_values([10, 12, 15, 20])\n",
      "10\n",
      "15\n"
     ]
    }
   ],
   "source": [
    "#prepare dictionaries with roll numbers:\n",
    "reg_dic={1:10,2:12,3:15,4:20}\n",
    "\n",
    "#print all the keys:\n",
    "print(reg_dic.keys())\n",
    "#print all values\n",
    "print(reg_dic.values())\n",
    "\n",
    "#print two values using their keys:\n",
    "items=reg_dic[1]\n",
    "print(items)\n",
    "items2=reg_dic[3]\n",
    "print(items2)"
   ]
  },
  {
   "cell_type": "markdown",
   "id": "19c51dd3",
   "metadata": {},
   "source": [
    "# Q2: A shop has following commodities with its inventory maintained in a dictionary:\n",
    "comm = {\n",
    "'chair' : 10,\n",
    "'table' : 22,\n",
    "'sofa-set': 2,\n",
    "'tv-unit': 0,\n",
    "'fan': 10,\n",
    "'table-lamp': 0,\n",
    "'iron-box': 0,\n",
    "'bed': 30\n",
    "}\n",
    "\n",
    "and its price in another dictionary\n",
    "\n",
    "price = {\n",
    "'chair': 2365,\n",
    "'table': 37752,\n",
    "'sofa-set': 23299,\n",
    "'tv-unit': 120344\n",
    "'bed': 40226\n",
    "}\n",
    "\n",
    "Accept the number of items for each commodity sold from standard input and at the end do the following:\n",
    "\n",
    "1. Evaluate the income made by the shop owner.\n",
    "2. If user enters a commodity that is not available in the shop, display appropriate message.\n",
    "3. If user enters a quantity that is beyond the available limit, display the size of the inventory.\n",
    "4. Display the inventory available.\n"
   ]
  },
  {
   "cell_type": "code",
   "execution_count": 10,
   "id": "75416a75",
   "metadata": {},
   "outputs": [],
   "source": [
    "comm={'chair' : 10,'table' : 22,'sofa-set': 2,'tv-unit': 0,'fan': 10,'table-lamp': 0,'iron-box': 0,'bed': 30}\n",
    "price ={'chair': 2365,'table': 37752,'sofa-set': 23299,'tv-unit': 120344,'bed': 40226}"
   ]
  },
  {
   "cell_type": "code",
   "execution_count": null,
   "id": "d60656fd",
   "metadata": {},
   "outputs": [
    {
     "name": "stdout",
     "output_type": "stream",
     "text": [
      "enter your purchase: bed\n",
      "enter quantity of purche:  2\n",
      "available\n",
      "avialable in stock\n",
      "cash is: 80452\n",
      "dict_items([('chair', 0), ('table', 22), ('sofa-set', 2), ('tv-unit', 0), ('fan', 10), ('table-lamp', 0), ('iron-box', 0), ('bed', 28)])\n"
     ]
    }
   ],
   "source": [
    "#Q.1: Find income of shopkeeper.\n",
    "#Q.2: If an item is entered that is not available, display appropriate message.\n",
    "#Q.3: Display message for item that is out of stock.\n",
    "#Q.4:Display inventory.\n",
    "cash = 0 # cash we have at the beggining.\n",
    "\n",
    "while True: #While loop so that code works more than one.\n",
    "    \n",
    "    commodity_given = input(\"enter your purchase: \")\n",
    "    \n",
    "    #to break the loop when purchase is made and no further work is required.\n",
    "    if commodity_given == (\"quit\"):\n",
    "        print(\"Thank you for shopping. come back soon.\")\n",
    "        break\n",
    "                    \n",
    "    #the number of items in stock i.e, the value of the comm dict.\n",
    "    quantity = int(input(\"enter quantity of purche:  \"))\n",
    "        \n",
    "    # check if the item is available in comm.\n",
    "    if commodity_given in comm.keys():\n",
    "        print(\"available\")\n",
    "            \n",
    "    #To check if the commodity_given is available in stock or keys or values of comm.\n",
    "        if comm[commodity_given]>0 and quantity<=comm[commodity_given]:\n",
    "            print(\"avialable in stock\")\n",
    "            \n",
    "            #to calculate the income of shopkeeper i.e, the cash given by customer.\n",
    "            cash = cash+(price[commodity_given]*quantity)\n",
    "            print(\"cash is:\",cash)\n",
    "\n",
    "            #display of inventory of the items left after purchase has been made.\n",
    "            comm[commodity_given] = comm[commodity_given]-quantity\n",
    "            print(comm.items())#will show all items(keys and values) in comm.\n",
    "        \n",
    "            #when value entered exceeds the quantity available.\n",
    "        else:\n",
    "            print(\"not available in stock\")\n",
    "\n",
    "         #when item is not available in the list\n",
    "\n",
    "    else:\n",
    "        print(\"item not found\")  "
   ]
  },
  {
   "cell_type": "code",
   "execution_count": null,
   "id": "7e46e00a",
   "metadata": {},
   "outputs": [],
   "source": []
  },
  {
   "cell_type": "code",
   "execution_count": null,
   "id": "4d02a611",
   "metadata": {},
   "outputs": [],
   "source": []
  },
  {
   "cell_type": "code",
   "execution_count": null,
   "id": "9db06f8f",
   "metadata": {},
   "outputs": [],
   "source": []
  },
  {
   "cell_type": "code",
   "execution_count": null,
   "id": "db025fae",
   "metadata": {},
   "outputs": [],
   "source": []
  },
  {
   "cell_type": "code",
   "execution_count": null,
   "id": "16bc6ac5",
   "metadata": {},
   "outputs": [],
   "source": []
  }
 ],
 "metadata": {
  "kernelspec": {
   "display_name": "Python 3",
   "language": "python",
   "name": "python3"
  },
  "language_info": {
   "codemirror_mode": {
    "name": "ipython",
    "version": 3
   },
   "file_extension": ".py",
   "mimetype": "text/x-python",
   "name": "python",
   "nbconvert_exporter": "python",
   "pygments_lexer": "ipython3",
   "version": "3.8.8"
  }
 },
 "nbformat": 4,
 "nbformat_minor": 5
}
